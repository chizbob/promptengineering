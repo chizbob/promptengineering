{
 "cells": [
  {
   "cell_type": "markdown",
   "id": "dd76f78c-ee09-46b3-9440-e25d827d0e6a",
   "metadata": {},
   "source": [
    "\n",
    "\n",
    "\n",
    "Prompt engineering in the work.\n",
    "Task - text summarization."
   ]
  },
  {
   "cell_type": "markdown",
   "id": "78edd2b2-2780-4f3d-80e8-3d492ba2d4c6",
   "metadata": {},
   "source": [
    "\n",
    "\n",
    "\n",
    "First check the versions of basic libraries.\n",
    "Now import needed packages."
   ]
  },
  {
   "cell_type": "code",
   "execution_count": 140,
   "id": "25c81de0-edea-4d6e-aca7-8c7d5ac11629",
   "metadata": {},
   "outputs": [],
   "source": [
    "from datasets import load_dataset\n",
    "from transformers import AutoModelForSeq2SeqLM\n",
    "from transformers import AutoTokenizer\n",
    "from transformers import GenerationConfig\n",
    "from transformers import TrainingArguments\n",
    "from transformers import Trainer\n",
    "\n",
    "import torch\n",
    "import time\n",
    "import evaluate\n",
    "import pandas as pd\n",
    "import numpy as np"
   ]
  },
  {
   "cell_type": "markdown",
   "id": "2705cac4-665f-4bc7-b3c6-682ac169b136",
   "metadata": {},
   "source": [
    "\n",
    "\n",
    "\n",
    "Load the dataset with the `load_dataset` package. Reference: https://huggingface.co/docs/datasets/v1.11.0/loading_datasets.html \n",
    "I am going to use `knkarthick/dialogsum` dataset for this project."
   ]
  },
  {
   "cell_type": "code",
   "execution_count": 5,
   "id": "3881d1a5-afd7-4b97-ad04-e0611d2d468a",
   "metadata": {},
   "outputs": [
    {
     "name": "stderr",
     "output_type": "stream",
     "text": [
      "Found cached dataset csv (/Users/sokim/.cache/huggingface/datasets/knkarthick___csv/knkarthick--dialogsum-c8fac5d84cd35861/0.0.0/6954658bab30a358235fa864b05cf819af0e179325c740e4bc853bcc7ec513e1)\n",
      "100%|██████████| 3/3 [00:00<00:00, 538.70it/s]\n"
     ]
    },
    {
     "data": {
      "text/plain": [
       "DatasetDict({\n",
       "    train: Dataset({\n",
       "        features: ['id', 'dialogue', 'summary', 'topic'],\n",
       "        num_rows: 12460\n",
       "    })\n",
       "    test: Dataset({\n",
       "        features: ['id', 'dialogue', 'summary', 'topic'],\n",
       "        num_rows: 1500\n",
       "    })\n",
       "    validation: Dataset({\n",
       "        features: ['id', 'dialogue', 'summary', 'topic'],\n",
       "        num_rows: 500\n",
       "    })\n",
       "})"
      ]
     },
     "execution_count": 5,
     "metadata": {},
     "output_type": "execute_result"
    }
   ],
   "source": [
    "dataset = load_dataset(\"knkarthick/dialogsum\")\n",
    "dataset"
   ]
  },
  {
   "cell_type": "markdown",
   "id": "ad8ae858-f4cb-4cf1-874b-02cf955ad34e",
   "metadata": {},
   "source": [
    "\n",
    "\n",
    "\n",
    "\n",
    "This dataset has 12460 rows in train, \n",
    "                  1500 rows in test,\n",
    "                   500 rows in validation."
   ]
  },
  {
   "cell_type": "code",
   "execution_count": 12,
   "id": "475d9221-1739-46fd-85f2-f4590e1c3169",
   "metadata": {},
   "outputs": [
    {
     "data": {
      "text/plain": [
       "{'id': 'test_0_1',\n",
       " 'dialogue': \"#Person1#: Ms. Dawson, I need you to take a dictation for me.\\n#Person2#: Yes, sir...\\n#Person1#: This should go out as an intra-office memorandum to all employees by this afternoon. Are you ready?\\n#Person2#: Yes, sir. Go ahead.\\n#Person1#: Attention all staff... Effective immediately, all office communications are restricted to email correspondence and official memos. The use of Instant Message programs by employees during working hours is strictly prohibited.\\n#Person2#: Sir, does this apply to intra-office communications only? Or will it also restrict external communications?\\n#Person1#: It should apply to all communications, not only in this office between employees, but also any outside communications.\\n#Person2#: But sir, many employees use Instant Messaging to communicate with their clients.\\n#Person1#: They will just have to change their communication methods. I don't want any - one using Instant Messaging in this office. It wastes too much time! Now, please continue with the memo. Where were we?\\n#Person2#: This applies to internal and external communications.\\n#Person1#: Yes. Any employee who persists in using Instant Messaging will first receive a warning and be placed on probation. At second offense, the employee will face termination. Any questions regarding this new policy may be directed to department heads.\\n#Person2#: Is that all?\\n#Person1#: Yes. Please get this memo typed up and distributed to all employees before 4 pm.\",\n",
       " 'summary': 'Ms. Dawson helps #Person1# to write a memo to inform every employee that they have to change the communication method and should not use Instant Messaging anymore.',\n",
       " 'topic': 'communication method'}"
      ]
     },
     "execution_count": 12,
     "metadata": {},
     "output_type": "execute_result"
    }
   ],
   "source": [
    "dataset['train'][0]"
   ]
  },
  {
   "cell_type": "code",
   "execution_count": 13,
   "id": "db674510-8bea-4c6c-bef6-4200dffe754e",
   "metadata": {},
   "outputs": [
    {
     "data": {
      "text/plain": [
       "{'id': 'test_3_2',\n",
       " 'dialogue': \"#Person1#: Happy Birthday, this is for you, Brian.\\n#Person2#: I'm so happy you remember, please come in and enjoy the party. Everyone's here, I'm sure you have a good time.\\n#Person1#: Brian, may I have a pleasure to have a dance with you?\\n#Person2#: Ok.\\n#Person1#: This is really wonderful party.\\n#Person2#: Yes, you are always popular with everyone. and you look very pretty today.\\n#Person1#: Thanks, that's very kind of you to say. I hope my necklace goes with my dress, and they both make me look good I feel.\\n#Person2#: You look great, you are absolutely glowing.\\n#Person1#: Thanks, this is a fine party. We should have a drink together to celebrate your birthday\",\n",
       " 'summary': \"#Person1# attends Brian's birthday party. Brian thinks #Person1# looks great and charming.\",\n",
       " 'topic': 'birthday party'}"
      ]
     },
     "execution_count": 13,
     "metadata": {},
     "output_type": "execute_result"
    }
   ],
   "source": [
    "dataset['test'][10]"
   ]
  },
  {
   "cell_type": "code",
   "execution_count": 14,
   "id": "133635f3-e6a4-4796-94f6-9ab0925fc217",
   "metadata": {},
   "outputs": [
    {
     "data": {
      "text/plain": [
       "{'id': 'dev_20',\n",
       " 'dialogue': \"#Person1#: Did you know that drinking beer helps you sing better?\\n#Person2#: Are you sure? How do you know?\\n#Person1#: Well, usually people think I'm a terrible singer, but after we all have a few beers, they say I sound a lot better!\\n#Person2#: Well, I heard that if you drink enough beer, you can speak foreign languages better. . .\\n#Person1#: Then after a few beers, you'll be singing in Taiwanese?\\n#Person2#: Maybe. . .\",\n",
       " 'summary': '#Person1# says drinking beer helps sing better, but #Person2# heard it helps speaking foreign languages.',\n",
       " 'topic': 'drinking beer'}"
      ]
     },
     "execution_count": 14,
     "metadata": {},
     "output_type": "execute_result"
    }
   ],
   "source": [
    "dataset['validation'][20]"
   ]
  },
  {
   "cell_type": "markdown",
   "id": "a44cf347-3d4a-4a21-9274-6ea1f9b4538c",
   "metadata": {},
   "source": [
    "\n",
    "\n",
    "\n",
    "\n",
    "So each datapoint has id, dialog, summary and topic."
   ]
  },
  {
   "cell_type": "code",
   "execution_count": 16,
   "id": "97cb9810-544d-4a57-8c41-41251f9286d3",
   "metadata": {},
   "outputs": [
    {
     "data": {
      "text/plain": [
       "{'id': 'test_33_2',\n",
       " 'dialogue': \"#Person1#: OK, that's a cut! Let's start from the beginning, everyone.\\n#Person2#: What was the problem that time?\\n#Person1#: The feeling was all wrong, Mike. She is telling you that she doesn't want to see you any more, but I want to get more anger from you. You're acting hurt and sad, but that's not how your character would act in this situation.\\n#Person2#: But Jason and Laura have been together for three years. Don't you think his reaction would be one of both anger and sadness?\\n#Person1#: At this point, no. I think he would react the way most guys would, and then later on, we would see his real feelings.\\n#Person2#: I'm not so sure about that.\\n#Person1#: Let's try it my way, and you can see how you feel when you're saying your lines. After that, if it still doesn't feel right, we can try something else.\",\n",
       " 'summary': \"#Person1# and Mike have a disagreement on how to act out a scene. #Person1# proposes that Mike can try to act in #Person1#'s way.\",\n",
       " 'topic': 'shooting'}"
      ]
     },
     "execution_count": 16,
     "metadata": {},
     "output_type": "execute_result"
    }
   ],
   "source": [
    "dataset['test'][100]"
   ]
  },
  {
   "cell_type": "markdown",
   "id": "5acfb0cb-428c-4a63-84b3-e09dce5a7f7c",
   "metadata": {},
   "source": [
    "\n",
    "\n",
    "\n",
    "The dialog is a conversation between two people,\n",
    "and the summary is the summary labeled(generated) by human. \n",
    "Now we can load the FLAN-T5 model and generate the summary from the model."
   ]
  },
  {
   "cell_type": "markdown",
   "id": "5704b0ed-3d24-4da0-8931-eb809cc5dcdf",
   "metadata": {},
   "source": [
    "\n",
    "\n",
    "\n",
    "Bring the model FLAN-T5. The model name is 'google/flan-t5-base'. Reference: https://huggingface.co/google/flan-t5-base "
   ]
  },
  {
   "cell_type": "code",
   "execution_count": 18,
   "id": "3a31b6ae-b0f6-4d57-93f7-0058e328f035",
   "metadata": {},
   "outputs": [],
   "source": [
    "model_name = 'google/flan-t5-base'\n",
    "flant5_model = AutoModelForSeq2SeqLM.from_pretrained(model_name)"
   ]
  },
  {
   "cell_type": "code",
   "execution_count": null,
   "id": "cb6508c4-1080-4b84-b8e4-df8f718df5e4",
   "metadata": {},
   "outputs": [],
   "source": [
    "\n",
    "\n",
    "\n",
    "\n",
    "How the model looks like:"
   ]
  },
  {
   "cell_type": "code",
   "execution_count": 146,
   "id": "2c6cc2f8-bbe1-4061-958c-8f2a8bff0738",
   "metadata": {},
   "outputs": [
    {
     "data": {
      "text/plain": [
       "T5ForConditionalGeneration(\n",
       "  (shared): Embedding(32128, 768)\n",
       "  (encoder): T5Stack(\n",
       "    (embed_tokens): Embedding(32128, 768)\n",
       "    (block): ModuleList(\n",
       "      (0): T5Block(\n",
       "        (layer): ModuleList(\n",
       "          (0): T5LayerSelfAttention(\n",
       "            (SelfAttention): T5Attention(\n",
       "              (q): Linear(in_features=768, out_features=768, bias=False)\n",
       "              (k): Linear(in_features=768, out_features=768, bias=False)\n",
       "              (v): Linear(in_features=768, out_features=768, bias=False)\n",
       "              (o): Linear(in_features=768, out_features=768, bias=False)\n",
       "              (relative_attention_bias): Embedding(32, 12)\n",
       "            )\n",
       "            (layer_norm): T5LayerNorm()\n",
       "            (dropout): Dropout(p=0.1, inplace=False)\n",
       "          )\n",
       "          (1): T5LayerFF(\n",
       "            (DenseReluDense): T5DenseGatedActDense(\n",
       "              (wi_0): Linear(in_features=768, out_features=2048, bias=False)\n",
       "              (wi_1): Linear(in_features=768, out_features=2048, bias=False)\n",
       "              (wo): Linear(in_features=2048, out_features=768, bias=False)\n",
       "              (dropout): Dropout(p=0.1, inplace=False)\n",
       "              (act): NewGELUActivation()\n",
       "            )\n",
       "            (layer_norm): T5LayerNorm()\n",
       "            (dropout): Dropout(p=0.1, inplace=False)\n",
       "          )\n",
       "        )\n",
       "      )\n",
       "      (1): T5Block(\n",
       "        (layer): ModuleList(\n",
       "          (0): T5LayerSelfAttention(\n",
       "            (SelfAttention): T5Attention(\n",
       "              (q): Linear(in_features=768, out_features=768, bias=False)\n",
       "              (k): Linear(in_features=768, out_features=768, bias=False)\n",
       "              (v): Linear(in_features=768, out_features=768, bias=False)\n",
       "              (o): Linear(in_features=768, out_features=768, bias=False)\n",
       "            )\n",
       "            (layer_norm): T5LayerNorm()\n",
       "            (dropout): Dropout(p=0.1, inplace=False)\n",
       "          )\n",
       "          (1): T5LayerFF(\n",
       "            (DenseReluDense): T5DenseGatedActDense(\n",
       "              (wi_0): Linear(in_features=768, out_features=2048, bias=False)\n",
       "              (wi_1): Linear(in_features=768, out_features=2048, bias=False)\n",
       "              (wo): Linear(in_features=2048, out_features=768, bias=False)\n",
       "              (dropout): Dropout(p=0.1, inplace=False)\n",
       "              (act): NewGELUActivation()\n",
       "            )\n",
       "            (layer_norm): T5LayerNorm()\n",
       "            (dropout): Dropout(p=0.1, inplace=False)\n",
       "          )\n",
       "        )\n",
       "      )\n",
       "      (2): T5Block(\n",
       "        (layer): ModuleList(\n",
       "          (0): T5LayerSelfAttention(\n",
       "            (SelfAttention): T5Attention(\n",
       "              (q): Linear(in_features=768, out_features=768, bias=False)\n",
       "              (k): Linear(in_features=768, out_features=768, bias=False)\n",
       "              (v): Linear(in_features=768, out_features=768, bias=False)\n",
       "              (o): Linear(in_features=768, out_features=768, bias=False)\n",
       "            )\n",
       "            (layer_norm): T5LayerNorm()\n",
       "            (dropout): Dropout(p=0.1, inplace=False)\n",
       "          )\n",
       "          (1): T5LayerFF(\n",
       "            (DenseReluDense): T5DenseGatedActDense(\n",
       "              (wi_0): Linear(in_features=768, out_features=2048, bias=False)\n",
       "              (wi_1): Linear(in_features=768, out_features=2048, bias=False)\n",
       "              (wo): Linear(in_features=2048, out_features=768, bias=False)\n",
       "              (dropout): Dropout(p=0.1, inplace=False)\n",
       "              (act): NewGELUActivation()\n",
       "            )\n",
       "            (layer_norm): T5LayerNorm()\n",
       "            (dropout): Dropout(p=0.1, inplace=False)\n",
       "          )\n",
       "        )\n",
       "      )\n",
       "      (3): T5Block(\n",
       "        (layer): ModuleList(\n",
       "          (0): T5LayerSelfAttention(\n",
       "            (SelfAttention): T5Attention(\n",
       "              (q): Linear(in_features=768, out_features=768, bias=False)\n",
       "              (k): Linear(in_features=768, out_features=768, bias=False)\n",
       "              (v): Linear(in_features=768, out_features=768, bias=False)\n",
       "              (o): Linear(in_features=768, out_features=768, bias=False)\n",
       "            )\n",
       "            (layer_norm): T5LayerNorm()\n",
       "            (dropout): Dropout(p=0.1, inplace=False)\n",
       "          )\n",
       "          (1): T5LayerFF(\n",
       "            (DenseReluDense): T5DenseGatedActDense(\n",
       "              (wi_0): Linear(in_features=768, out_features=2048, bias=False)\n",
       "              (wi_1): Linear(in_features=768, out_features=2048, bias=False)\n",
       "              (wo): Linear(in_features=2048, out_features=768, bias=False)\n",
       "              (dropout): Dropout(p=0.1, inplace=False)\n",
       "              (act): NewGELUActivation()\n",
       "            )\n",
       "            (layer_norm): T5LayerNorm()\n",
       "            (dropout): Dropout(p=0.1, inplace=False)\n",
       "          )\n",
       "        )\n",
       "      )\n",
       "      (4): T5Block(\n",
       "        (layer): ModuleList(\n",
       "          (0): T5LayerSelfAttention(\n",
       "            (SelfAttention): T5Attention(\n",
       "              (q): Linear(in_features=768, out_features=768, bias=False)\n",
       "              (k): Linear(in_features=768, out_features=768, bias=False)\n",
       "              (v): Linear(in_features=768, out_features=768, bias=False)\n",
       "              (o): Linear(in_features=768, out_features=768, bias=False)\n",
       "            )\n",
       "            (layer_norm): T5LayerNorm()\n",
       "            (dropout): Dropout(p=0.1, inplace=False)\n",
       "          )\n",
       "          (1): T5LayerFF(\n",
       "            (DenseReluDense): T5DenseGatedActDense(\n",
       "              (wi_0): Linear(in_features=768, out_features=2048, bias=False)\n",
       "              (wi_1): Linear(in_features=768, out_features=2048, bias=False)\n",
       "              (wo): Linear(in_features=2048, out_features=768, bias=False)\n",
       "              (dropout): Dropout(p=0.1, inplace=False)\n",
       "              (act): NewGELUActivation()\n",
       "            )\n",
       "            (layer_norm): T5LayerNorm()\n",
       "            (dropout): Dropout(p=0.1, inplace=False)\n",
       "          )\n",
       "        )\n",
       "      )\n",
       "      (5): T5Block(\n",
       "        (layer): ModuleList(\n",
       "          (0): T5LayerSelfAttention(\n",
       "            (SelfAttention): T5Attention(\n",
       "              (q): Linear(in_features=768, out_features=768, bias=False)\n",
       "              (k): Linear(in_features=768, out_features=768, bias=False)\n",
       "              (v): Linear(in_features=768, out_features=768, bias=False)\n",
       "              (o): Linear(in_features=768, out_features=768, bias=False)\n",
       "            )\n",
       "            (layer_norm): T5LayerNorm()\n",
       "            (dropout): Dropout(p=0.1, inplace=False)\n",
       "          )\n",
       "          (1): T5LayerFF(\n",
       "            (DenseReluDense): T5DenseGatedActDense(\n",
       "              (wi_0): Linear(in_features=768, out_features=2048, bias=False)\n",
       "              (wi_1): Linear(in_features=768, out_features=2048, bias=False)\n",
       "              (wo): Linear(in_features=2048, out_features=768, bias=False)\n",
       "              (dropout): Dropout(p=0.1, inplace=False)\n",
       "              (act): NewGELUActivation()\n",
       "            )\n",
       "            (layer_norm): T5LayerNorm()\n",
       "            (dropout): Dropout(p=0.1, inplace=False)\n",
       "          )\n",
       "        )\n",
       "      )\n",
       "      (6): T5Block(\n",
       "        (layer): ModuleList(\n",
       "          (0): T5LayerSelfAttention(\n",
       "            (SelfAttention): T5Attention(\n",
       "              (q): Linear(in_features=768, out_features=768, bias=False)\n",
       "              (k): Linear(in_features=768, out_features=768, bias=False)\n",
       "              (v): Linear(in_features=768, out_features=768, bias=False)\n",
       "              (o): Linear(in_features=768, out_features=768, bias=False)\n",
       "            )\n",
       "            (layer_norm): T5LayerNorm()\n",
       "            (dropout): Dropout(p=0.1, inplace=False)\n",
       "          )\n",
       "          (1): T5LayerFF(\n",
       "            (DenseReluDense): T5DenseGatedActDense(\n",
       "              (wi_0): Linear(in_features=768, out_features=2048, bias=False)\n",
       "              (wi_1): Linear(in_features=768, out_features=2048, bias=False)\n",
       "              (wo): Linear(in_features=2048, out_features=768, bias=False)\n",
       "              (dropout): Dropout(p=0.1, inplace=False)\n",
       "              (act): NewGELUActivation()\n",
       "            )\n",
       "            (layer_norm): T5LayerNorm()\n",
       "            (dropout): Dropout(p=0.1, inplace=False)\n",
       "          )\n",
       "        )\n",
       "      )\n",
       "      (7): T5Block(\n",
       "        (layer): ModuleList(\n",
       "          (0): T5LayerSelfAttention(\n",
       "            (SelfAttention): T5Attention(\n",
       "              (q): Linear(in_features=768, out_features=768, bias=False)\n",
       "              (k): Linear(in_features=768, out_features=768, bias=False)\n",
       "              (v): Linear(in_features=768, out_features=768, bias=False)\n",
       "              (o): Linear(in_features=768, out_features=768, bias=False)\n",
       "            )\n",
       "            (layer_norm): T5LayerNorm()\n",
       "            (dropout): Dropout(p=0.1, inplace=False)\n",
       "          )\n",
       "          (1): T5LayerFF(\n",
       "            (DenseReluDense): T5DenseGatedActDense(\n",
       "              (wi_0): Linear(in_features=768, out_features=2048, bias=False)\n",
       "              (wi_1): Linear(in_features=768, out_features=2048, bias=False)\n",
       "              (wo): Linear(in_features=2048, out_features=768, bias=False)\n",
       "              (dropout): Dropout(p=0.1, inplace=False)\n",
       "              (act): NewGELUActivation()\n",
       "            )\n",
       "            (layer_norm): T5LayerNorm()\n",
       "            (dropout): Dropout(p=0.1, inplace=False)\n",
       "          )\n",
       "        )\n",
       "      )\n",
       "      (8): T5Block(\n",
       "        (layer): ModuleList(\n",
       "          (0): T5LayerSelfAttention(\n",
       "            (SelfAttention): T5Attention(\n",
       "              (q): Linear(in_features=768, out_features=768, bias=False)\n",
       "              (k): Linear(in_features=768, out_features=768, bias=False)\n",
       "              (v): Linear(in_features=768, out_features=768, bias=False)\n",
       "              (o): Linear(in_features=768, out_features=768, bias=False)\n",
       "            )\n",
       "            (layer_norm): T5LayerNorm()\n",
       "            (dropout): Dropout(p=0.1, inplace=False)\n",
       "          )\n",
       "          (1): T5LayerFF(\n",
       "            (DenseReluDense): T5DenseGatedActDense(\n",
       "              (wi_0): Linear(in_features=768, out_features=2048, bias=False)\n",
       "              (wi_1): Linear(in_features=768, out_features=2048, bias=False)\n",
       "              (wo): Linear(in_features=2048, out_features=768, bias=False)\n",
       "              (dropout): Dropout(p=0.1, inplace=False)\n",
       "              (act): NewGELUActivation()\n",
       "            )\n",
       "            (layer_norm): T5LayerNorm()\n",
       "            (dropout): Dropout(p=0.1, inplace=False)\n",
       "          )\n",
       "        )\n",
       "      )\n",
       "      (9): T5Block(\n",
       "        (layer): ModuleList(\n",
       "          (0): T5LayerSelfAttention(\n",
       "            (SelfAttention): T5Attention(\n",
       "              (q): Linear(in_features=768, out_features=768, bias=False)\n",
       "              (k): Linear(in_features=768, out_features=768, bias=False)\n",
       "              (v): Linear(in_features=768, out_features=768, bias=False)\n",
       "              (o): Linear(in_features=768, out_features=768, bias=False)\n",
       "            )\n",
       "            (layer_norm): T5LayerNorm()\n",
       "            (dropout): Dropout(p=0.1, inplace=False)\n",
       "          )\n",
       "          (1): T5LayerFF(\n",
       "            (DenseReluDense): T5DenseGatedActDense(\n",
       "              (wi_0): Linear(in_features=768, out_features=2048, bias=False)\n",
       "              (wi_1): Linear(in_features=768, out_features=2048, bias=False)\n",
       "              (wo): Linear(in_features=2048, out_features=768, bias=False)\n",
       "              (dropout): Dropout(p=0.1, inplace=False)\n",
       "              (act): NewGELUActivation()\n",
       "            )\n",
       "            (layer_norm): T5LayerNorm()\n",
       "            (dropout): Dropout(p=0.1, inplace=False)\n",
       "          )\n",
       "        )\n",
       "      )\n",
       "      (10): T5Block(\n",
       "        (layer): ModuleList(\n",
       "          (0): T5LayerSelfAttention(\n",
       "            (SelfAttention): T5Attention(\n",
       "              (q): Linear(in_features=768, out_features=768, bias=False)\n",
       "              (k): Linear(in_features=768, out_features=768, bias=False)\n",
       "              (v): Linear(in_features=768, out_features=768, bias=False)\n",
       "              (o): Linear(in_features=768, out_features=768, bias=False)\n",
       "            )\n",
       "            (layer_norm): T5LayerNorm()\n",
       "            (dropout): Dropout(p=0.1, inplace=False)\n",
       "          )\n",
       "          (1): T5LayerFF(\n",
       "            (DenseReluDense): T5DenseGatedActDense(\n",
       "              (wi_0): Linear(in_features=768, out_features=2048, bias=False)\n",
       "              (wi_1): Linear(in_features=768, out_features=2048, bias=False)\n",
       "              (wo): Linear(in_features=2048, out_features=768, bias=False)\n",
       "              (dropout): Dropout(p=0.1, inplace=False)\n",
       "              (act): NewGELUActivation()\n",
       "            )\n",
       "            (layer_norm): T5LayerNorm()\n",
       "            (dropout): Dropout(p=0.1, inplace=False)\n",
       "          )\n",
       "        )\n",
       "      )\n",
       "      (11): T5Block(\n",
       "        (layer): ModuleList(\n",
       "          (0): T5LayerSelfAttention(\n",
       "            (SelfAttention): T5Attention(\n",
       "              (q): Linear(in_features=768, out_features=768, bias=False)\n",
       "              (k): Linear(in_features=768, out_features=768, bias=False)\n",
       "              (v): Linear(in_features=768, out_features=768, bias=False)\n",
       "              (o): Linear(in_features=768, out_features=768, bias=False)\n",
       "            )\n",
       "            (layer_norm): T5LayerNorm()\n",
       "            (dropout): Dropout(p=0.1, inplace=False)\n",
       "          )\n",
       "          (1): T5LayerFF(\n",
       "            (DenseReluDense): T5DenseGatedActDense(\n",
       "              (wi_0): Linear(in_features=768, out_features=2048, bias=False)\n",
       "              (wi_1): Linear(in_features=768, out_features=2048, bias=False)\n",
       "              (wo): Linear(in_features=2048, out_features=768, bias=False)\n",
       "              (dropout): Dropout(p=0.1, inplace=False)\n",
       "              (act): NewGELUActivation()\n",
       "            )\n",
       "            (layer_norm): T5LayerNorm()\n",
       "            (dropout): Dropout(p=0.1, inplace=False)\n",
       "          )\n",
       "        )\n",
       "      )\n",
       "    )\n",
       "    (final_layer_norm): T5LayerNorm()\n",
       "    (dropout): Dropout(p=0.1, inplace=False)\n",
       "  )\n",
       "  (decoder): T5Stack(\n",
       "    (embed_tokens): Embedding(32128, 768)\n",
       "    (block): ModuleList(\n",
       "      (0): T5Block(\n",
       "        (layer): ModuleList(\n",
       "          (0): T5LayerSelfAttention(\n",
       "            (SelfAttention): T5Attention(\n",
       "              (q): Linear(in_features=768, out_features=768, bias=False)\n",
       "              (k): Linear(in_features=768, out_features=768, bias=False)\n",
       "              (v): Linear(in_features=768, out_features=768, bias=False)\n",
       "              (o): Linear(in_features=768, out_features=768, bias=False)\n",
       "              (relative_attention_bias): Embedding(32, 12)\n",
       "            )\n",
       "            (layer_norm): T5LayerNorm()\n",
       "            (dropout): Dropout(p=0.1, inplace=False)\n",
       "          )\n",
       "          (1): T5LayerCrossAttention(\n",
       "            (EncDecAttention): T5Attention(\n",
       "              (q): Linear(in_features=768, out_features=768, bias=False)\n",
       "              (k): Linear(in_features=768, out_features=768, bias=False)\n",
       "              (v): Linear(in_features=768, out_features=768, bias=False)\n",
       "              (o): Linear(in_features=768, out_features=768, bias=False)\n",
       "            )\n",
       "            (layer_norm): T5LayerNorm()\n",
       "            (dropout): Dropout(p=0.1, inplace=False)\n",
       "          )\n",
       "          (2): T5LayerFF(\n",
       "            (DenseReluDense): T5DenseGatedActDense(\n",
       "              (wi_0): Linear(in_features=768, out_features=2048, bias=False)\n",
       "              (wi_1): Linear(in_features=768, out_features=2048, bias=False)\n",
       "              (wo): Linear(in_features=2048, out_features=768, bias=False)\n",
       "              (dropout): Dropout(p=0.1, inplace=False)\n",
       "              (act): NewGELUActivation()\n",
       "            )\n",
       "            (layer_norm): T5LayerNorm()\n",
       "            (dropout): Dropout(p=0.1, inplace=False)\n",
       "          )\n",
       "        )\n",
       "      )\n",
       "      (1): T5Block(\n",
       "        (layer): ModuleList(\n",
       "          (0): T5LayerSelfAttention(\n",
       "            (SelfAttention): T5Attention(\n",
       "              (q): Linear(in_features=768, out_features=768, bias=False)\n",
       "              (k): Linear(in_features=768, out_features=768, bias=False)\n",
       "              (v): Linear(in_features=768, out_features=768, bias=False)\n",
       "              (o): Linear(in_features=768, out_features=768, bias=False)\n",
       "            )\n",
       "            (layer_norm): T5LayerNorm()\n",
       "            (dropout): Dropout(p=0.1, inplace=False)\n",
       "          )\n",
       "          (1): T5LayerCrossAttention(\n",
       "            (EncDecAttention): T5Attention(\n",
       "              (q): Linear(in_features=768, out_features=768, bias=False)\n",
       "              (k): Linear(in_features=768, out_features=768, bias=False)\n",
       "              (v): Linear(in_features=768, out_features=768, bias=False)\n",
       "              (o): Linear(in_features=768, out_features=768, bias=False)\n",
       "            )\n",
       "            (layer_norm): T5LayerNorm()\n",
       "            (dropout): Dropout(p=0.1, inplace=False)\n",
       "          )\n",
       "          (2): T5LayerFF(\n",
       "            (DenseReluDense): T5DenseGatedActDense(\n",
       "              (wi_0): Linear(in_features=768, out_features=2048, bias=False)\n",
       "              (wi_1): Linear(in_features=768, out_features=2048, bias=False)\n",
       "              (wo): Linear(in_features=2048, out_features=768, bias=False)\n",
       "              (dropout): Dropout(p=0.1, inplace=False)\n",
       "              (act): NewGELUActivation()\n",
       "            )\n",
       "            (layer_norm): T5LayerNorm()\n",
       "            (dropout): Dropout(p=0.1, inplace=False)\n",
       "          )\n",
       "        )\n",
       "      )\n",
       "      (2): T5Block(\n",
       "        (layer): ModuleList(\n",
       "          (0): T5LayerSelfAttention(\n",
       "            (SelfAttention): T5Attention(\n",
       "              (q): Linear(in_features=768, out_features=768, bias=False)\n",
       "              (k): Linear(in_features=768, out_features=768, bias=False)\n",
       "              (v): Linear(in_features=768, out_features=768, bias=False)\n",
       "              (o): Linear(in_features=768, out_features=768, bias=False)\n",
       "            )\n",
       "            (layer_norm): T5LayerNorm()\n",
       "            (dropout): Dropout(p=0.1, inplace=False)\n",
       "          )\n",
       "          (1): T5LayerCrossAttention(\n",
       "            (EncDecAttention): T5Attention(\n",
       "              (q): Linear(in_features=768, out_features=768, bias=False)\n",
       "              (k): Linear(in_features=768, out_features=768, bias=False)\n",
       "              (v): Linear(in_features=768, out_features=768, bias=False)\n",
       "              (o): Linear(in_features=768, out_features=768, bias=False)\n",
       "            )\n",
       "            (layer_norm): T5LayerNorm()\n",
       "            (dropout): Dropout(p=0.1, inplace=False)\n",
       "          )\n",
       "          (2): T5LayerFF(\n",
       "            (DenseReluDense): T5DenseGatedActDense(\n",
       "              (wi_0): Linear(in_features=768, out_features=2048, bias=False)\n",
       "              (wi_1): Linear(in_features=768, out_features=2048, bias=False)\n",
       "              (wo): Linear(in_features=2048, out_features=768, bias=False)\n",
       "              (dropout): Dropout(p=0.1, inplace=False)\n",
       "              (act): NewGELUActivation()\n",
       "            )\n",
       "            (layer_norm): T5LayerNorm()\n",
       "            (dropout): Dropout(p=0.1, inplace=False)\n",
       "          )\n",
       "        )\n",
       "      )\n",
       "      (3): T5Block(\n",
       "        (layer): ModuleList(\n",
       "          (0): T5LayerSelfAttention(\n",
       "            (SelfAttention): T5Attention(\n",
       "              (q): Linear(in_features=768, out_features=768, bias=False)\n",
       "              (k): Linear(in_features=768, out_features=768, bias=False)\n",
       "              (v): Linear(in_features=768, out_features=768, bias=False)\n",
       "              (o): Linear(in_features=768, out_features=768, bias=False)\n",
       "            )\n",
       "            (layer_norm): T5LayerNorm()\n",
       "            (dropout): Dropout(p=0.1, inplace=False)\n",
       "          )\n",
       "          (1): T5LayerCrossAttention(\n",
       "            (EncDecAttention): T5Attention(\n",
       "              (q): Linear(in_features=768, out_features=768, bias=False)\n",
       "              (k): Linear(in_features=768, out_features=768, bias=False)\n",
       "              (v): Linear(in_features=768, out_features=768, bias=False)\n",
       "              (o): Linear(in_features=768, out_features=768, bias=False)\n",
       "            )\n",
       "            (layer_norm): T5LayerNorm()\n",
       "            (dropout): Dropout(p=0.1, inplace=False)\n",
       "          )\n",
       "          (2): T5LayerFF(\n",
       "            (DenseReluDense): T5DenseGatedActDense(\n",
       "              (wi_0): Linear(in_features=768, out_features=2048, bias=False)\n",
       "              (wi_1): Linear(in_features=768, out_features=2048, bias=False)\n",
       "              (wo): Linear(in_features=2048, out_features=768, bias=False)\n",
       "              (dropout): Dropout(p=0.1, inplace=False)\n",
       "              (act): NewGELUActivation()\n",
       "            )\n",
       "            (layer_norm): T5LayerNorm()\n",
       "            (dropout): Dropout(p=0.1, inplace=False)\n",
       "          )\n",
       "        )\n",
       "      )\n",
       "      (4): T5Block(\n",
       "        (layer): ModuleList(\n",
       "          (0): T5LayerSelfAttention(\n",
       "            (SelfAttention): T5Attention(\n",
       "              (q): Linear(in_features=768, out_features=768, bias=False)\n",
       "              (k): Linear(in_features=768, out_features=768, bias=False)\n",
       "              (v): Linear(in_features=768, out_features=768, bias=False)\n",
       "              (o): Linear(in_features=768, out_features=768, bias=False)\n",
       "            )\n",
       "            (layer_norm): T5LayerNorm()\n",
       "            (dropout): Dropout(p=0.1, inplace=False)\n",
       "          )\n",
       "          (1): T5LayerCrossAttention(\n",
       "            (EncDecAttention): T5Attention(\n",
       "              (q): Linear(in_features=768, out_features=768, bias=False)\n",
       "              (k): Linear(in_features=768, out_features=768, bias=False)\n",
       "              (v): Linear(in_features=768, out_features=768, bias=False)\n",
       "              (o): Linear(in_features=768, out_features=768, bias=False)\n",
       "            )\n",
       "            (layer_norm): T5LayerNorm()\n",
       "            (dropout): Dropout(p=0.1, inplace=False)\n",
       "          )\n",
       "          (2): T5LayerFF(\n",
       "            (DenseReluDense): T5DenseGatedActDense(\n",
       "              (wi_0): Linear(in_features=768, out_features=2048, bias=False)\n",
       "              (wi_1): Linear(in_features=768, out_features=2048, bias=False)\n",
       "              (wo): Linear(in_features=2048, out_features=768, bias=False)\n",
       "              (dropout): Dropout(p=0.1, inplace=False)\n",
       "              (act): NewGELUActivation()\n",
       "            )\n",
       "            (layer_norm): T5LayerNorm()\n",
       "            (dropout): Dropout(p=0.1, inplace=False)\n",
       "          )\n",
       "        )\n",
       "      )\n",
       "      (5): T5Block(\n",
       "        (layer): ModuleList(\n",
       "          (0): T5LayerSelfAttention(\n",
       "            (SelfAttention): T5Attention(\n",
       "              (q): Linear(in_features=768, out_features=768, bias=False)\n",
       "              (k): Linear(in_features=768, out_features=768, bias=False)\n",
       "              (v): Linear(in_features=768, out_features=768, bias=False)\n",
       "              (o): Linear(in_features=768, out_features=768, bias=False)\n",
       "            )\n",
       "            (layer_norm): T5LayerNorm()\n",
       "            (dropout): Dropout(p=0.1, inplace=False)\n",
       "          )\n",
       "          (1): T5LayerCrossAttention(\n",
       "            (EncDecAttention): T5Attention(\n",
       "              (q): Linear(in_features=768, out_features=768, bias=False)\n",
       "              (k): Linear(in_features=768, out_features=768, bias=False)\n",
       "              (v): Linear(in_features=768, out_features=768, bias=False)\n",
       "              (o): Linear(in_features=768, out_features=768, bias=False)\n",
       "            )\n",
       "            (layer_norm): T5LayerNorm()\n",
       "            (dropout): Dropout(p=0.1, inplace=False)\n",
       "          )\n",
       "          (2): T5LayerFF(\n",
       "            (DenseReluDense): T5DenseGatedActDense(\n",
       "              (wi_0): Linear(in_features=768, out_features=2048, bias=False)\n",
       "              (wi_1): Linear(in_features=768, out_features=2048, bias=False)\n",
       "              (wo): Linear(in_features=2048, out_features=768, bias=False)\n",
       "              (dropout): Dropout(p=0.1, inplace=False)\n",
       "              (act): NewGELUActivation()\n",
       "            )\n",
       "            (layer_norm): T5LayerNorm()\n",
       "            (dropout): Dropout(p=0.1, inplace=False)\n",
       "          )\n",
       "        )\n",
       "      )\n",
       "      (6): T5Block(\n",
       "        (layer): ModuleList(\n",
       "          (0): T5LayerSelfAttention(\n",
       "            (SelfAttention): T5Attention(\n",
       "              (q): Linear(in_features=768, out_features=768, bias=False)\n",
       "              (k): Linear(in_features=768, out_features=768, bias=False)\n",
       "              (v): Linear(in_features=768, out_features=768, bias=False)\n",
       "              (o): Linear(in_features=768, out_features=768, bias=False)\n",
       "            )\n",
       "            (layer_norm): T5LayerNorm()\n",
       "            (dropout): Dropout(p=0.1, inplace=False)\n",
       "          )\n",
       "          (1): T5LayerCrossAttention(\n",
       "            (EncDecAttention): T5Attention(\n",
       "              (q): Linear(in_features=768, out_features=768, bias=False)\n",
       "              (k): Linear(in_features=768, out_features=768, bias=False)\n",
       "              (v): Linear(in_features=768, out_features=768, bias=False)\n",
       "              (o): Linear(in_features=768, out_features=768, bias=False)\n",
       "            )\n",
       "            (layer_norm): T5LayerNorm()\n",
       "            (dropout): Dropout(p=0.1, inplace=False)\n",
       "          )\n",
       "          (2): T5LayerFF(\n",
       "            (DenseReluDense): T5DenseGatedActDense(\n",
       "              (wi_0): Linear(in_features=768, out_features=2048, bias=False)\n",
       "              (wi_1): Linear(in_features=768, out_features=2048, bias=False)\n",
       "              (wo): Linear(in_features=2048, out_features=768, bias=False)\n",
       "              (dropout): Dropout(p=0.1, inplace=False)\n",
       "              (act): NewGELUActivation()\n",
       "            )\n",
       "            (layer_norm): T5LayerNorm()\n",
       "            (dropout): Dropout(p=0.1, inplace=False)\n",
       "          )\n",
       "        )\n",
       "      )\n",
       "      (7): T5Block(\n",
       "        (layer): ModuleList(\n",
       "          (0): T5LayerSelfAttention(\n",
       "            (SelfAttention): T5Attention(\n",
       "              (q): Linear(in_features=768, out_features=768, bias=False)\n",
       "              (k): Linear(in_features=768, out_features=768, bias=False)\n",
       "              (v): Linear(in_features=768, out_features=768, bias=False)\n",
       "              (o): Linear(in_features=768, out_features=768, bias=False)\n",
       "            )\n",
       "            (layer_norm): T5LayerNorm()\n",
       "            (dropout): Dropout(p=0.1, inplace=False)\n",
       "          )\n",
       "          (1): T5LayerCrossAttention(\n",
       "            (EncDecAttention): T5Attention(\n",
       "              (q): Linear(in_features=768, out_features=768, bias=False)\n",
       "              (k): Linear(in_features=768, out_features=768, bias=False)\n",
       "              (v): Linear(in_features=768, out_features=768, bias=False)\n",
       "              (o): Linear(in_features=768, out_features=768, bias=False)\n",
       "            )\n",
       "            (layer_norm): T5LayerNorm()\n",
       "            (dropout): Dropout(p=0.1, inplace=False)\n",
       "          )\n",
       "          (2): T5LayerFF(\n",
       "            (DenseReluDense): T5DenseGatedActDense(\n",
       "              (wi_0): Linear(in_features=768, out_features=2048, bias=False)\n",
       "              (wi_1): Linear(in_features=768, out_features=2048, bias=False)\n",
       "              (wo): Linear(in_features=2048, out_features=768, bias=False)\n",
       "              (dropout): Dropout(p=0.1, inplace=False)\n",
       "              (act): NewGELUActivation()\n",
       "            )\n",
       "            (layer_norm): T5LayerNorm()\n",
       "            (dropout): Dropout(p=0.1, inplace=False)\n",
       "          )\n",
       "        )\n",
       "      )\n",
       "      (8): T5Block(\n",
       "        (layer): ModuleList(\n",
       "          (0): T5LayerSelfAttention(\n",
       "            (SelfAttention): T5Attention(\n",
       "              (q): Linear(in_features=768, out_features=768, bias=False)\n",
       "              (k): Linear(in_features=768, out_features=768, bias=False)\n",
       "              (v): Linear(in_features=768, out_features=768, bias=False)\n",
       "              (o): Linear(in_features=768, out_features=768, bias=False)\n",
       "            )\n",
       "            (layer_norm): T5LayerNorm()\n",
       "            (dropout): Dropout(p=0.1, inplace=False)\n",
       "          )\n",
       "          (1): T5LayerCrossAttention(\n",
       "            (EncDecAttention): T5Attention(\n",
       "              (q): Linear(in_features=768, out_features=768, bias=False)\n",
       "              (k): Linear(in_features=768, out_features=768, bias=False)\n",
       "              (v): Linear(in_features=768, out_features=768, bias=False)\n",
       "              (o): Linear(in_features=768, out_features=768, bias=False)\n",
       "            )\n",
       "            (layer_norm): T5LayerNorm()\n",
       "            (dropout): Dropout(p=0.1, inplace=False)\n",
       "          )\n",
       "          (2): T5LayerFF(\n",
       "            (DenseReluDense): T5DenseGatedActDense(\n",
       "              (wi_0): Linear(in_features=768, out_features=2048, bias=False)\n",
       "              (wi_1): Linear(in_features=768, out_features=2048, bias=False)\n",
       "              (wo): Linear(in_features=2048, out_features=768, bias=False)\n",
       "              (dropout): Dropout(p=0.1, inplace=False)\n",
       "              (act): NewGELUActivation()\n",
       "            )\n",
       "            (layer_norm): T5LayerNorm()\n",
       "            (dropout): Dropout(p=0.1, inplace=False)\n",
       "          )\n",
       "        )\n",
       "      )\n",
       "      (9): T5Block(\n",
       "        (layer): ModuleList(\n",
       "          (0): T5LayerSelfAttention(\n",
       "            (SelfAttention): T5Attention(\n",
       "              (q): Linear(in_features=768, out_features=768, bias=False)\n",
       "              (k): Linear(in_features=768, out_features=768, bias=False)\n",
       "              (v): Linear(in_features=768, out_features=768, bias=False)\n",
       "              (o): Linear(in_features=768, out_features=768, bias=False)\n",
       "            )\n",
       "            (layer_norm): T5LayerNorm()\n",
       "            (dropout): Dropout(p=0.1, inplace=False)\n",
       "          )\n",
       "          (1): T5LayerCrossAttention(\n",
       "            (EncDecAttention): T5Attention(\n",
       "              (q): Linear(in_features=768, out_features=768, bias=False)\n",
       "              (k): Linear(in_features=768, out_features=768, bias=False)\n",
       "              (v): Linear(in_features=768, out_features=768, bias=False)\n",
       "              (o): Linear(in_features=768, out_features=768, bias=False)\n",
       "            )\n",
       "            (layer_norm): T5LayerNorm()\n",
       "            (dropout): Dropout(p=0.1, inplace=False)\n",
       "          )\n",
       "          (2): T5LayerFF(\n",
       "            (DenseReluDense): T5DenseGatedActDense(\n",
       "              (wi_0): Linear(in_features=768, out_features=2048, bias=False)\n",
       "              (wi_1): Linear(in_features=768, out_features=2048, bias=False)\n",
       "              (wo): Linear(in_features=2048, out_features=768, bias=False)\n",
       "              (dropout): Dropout(p=0.1, inplace=False)\n",
       "              (act): NewGELUActivation()\n",
       "            )\n",
       "            (layer_norm): T5LayerNorm()\n",
       "            (dropout): Dropout(p=0.1, inplace=False)\n",
       "          )\n",
       "        )\n",
       "      )\n",
       "      (10): T5Block(\n",
       "        (layer): ModuleList(\n",
       "          (0): T5LayerSelfAttention(\n",
       "            (SelfAttention): T5Attention(\n",
       "              (q): Linear(in_features=768, out_features=768, bias=False)\n",
       "              (k): Linear(in_features=768, out_features=768, bias=False)\n",
       "              (v): Linear(in_features=768, out_features=768, bias=False)\n",
       "              (o): Linear(in_features=768, out_features=768, bias=False)\n",
       "            )\n",
       "            (layer_norm): T5LayerNorm()\n",
       "            (dropout): Dropout(p=0.1, inplace=False)\n",
       "          )\n",
       "          (1): T5LayerCrossAttention(\n",
       "            (EncDecAttention): T5Attention(\n",
       "              (q): Linear(in_features=768, out_features=768, bias=False)\n",
       "              (k): Linear(in_features=768, out_features=768, bias=False)\n",
       "              (v): Linear(in_features=768, out_features=768, bias=False)\n",
       "              (o): Linear(in_features=768, out_features=768, bias=False)\n",
       "            )\n",
       "            (layer_norm): T5LayerNorm()\n",
       "            (dropout): Dropout(p=0.1, inplace=False)\n",
       "          )\n",
       "          (2): T5LayerFF(\n",
       "            (DenseReluDense): T5DenseGatedActDense(\n",
       "              (wi_0): Linear(in_features=768, out_features=2048, bias=False)\n",
       "              (wi_1): Linear(in_features=768, out_features=2048, bias=False)\n",
       "              (wo): Linear(in_features=2048, out_features=768, bias=False)\n",
       "              (dropout): Dropout(p=0.1, inplace=False)\n",
       "              (act): NewGELUActivation()\n",
       "            )\n",
       "            (layer_norm): T5LayerNorm()\n",
       "            (dropout): Dropout(p=0.1, inplace=False)\n",
       "          )\n",
       "        )\n",
       "      )\n",
       "      (11): T5Block(\n",
       "        (layer): ModuleList(\n",
       "          (0): T5LayerSelfAttention(\n",
       "            (SelfAttention): T5Attention(\n",
       "              (q): Linear(in_features=768, out_features=768, bias=False)\n",
       "              (k): Linear(in_features=768, out_features=768, bias=False)\n",
       "              (v): Linear(in_features=768, out_features=768, bias=False)\n",
       "              (o): Linear(in_features=768, out_features=768, bias=False)\n",
       "            )\n",
       "            (layer_norm): T5LayerNorm()\n",
       "            (dropout): Dropout(p=0.1, inplace=False)\n",
       "          )\n",
       "          (1): T5LayerCrossAttention(\n",
       "            (EncDecAttention): T5Attention(\n",
       "              (q): Linear(in_features=768, out_features=768, bias=False)\n",
       "              (k): Linear(in_features=768, out_features=768, bias=False)\n",
       "              (v): Linear(in_features=768, out_features=768, bias=False)\n",
       "              (o): Linear(in_features=768, out_features=768, bias=False)\n",
       "            )\n",
       "            (layer_norm): T5LayerNorm()\n",
       "            (dropout): Dropout(p=0.1, inplace=False)\n",
       "          )\n",
       "          (2): T5LayerFF(\n",
       "            (DenseReluDense): T5DenseGatedActDense(\n",
       "              (wi_0): Linear(in_features=768, out_features=2048, bias=False)\n",
       "              (wi_1): Linear(in_features=768, out_features=2048, bias=False)\n",
       "              (wo): Linear(in_features=2048, out_features=768, bias=False)\n",
       "              (dropout): Dropout(p=0.1, inplace=False)\n",
       "              (act): NewGELUActivation()\n",
       "            )\n",
       "            (layer_norm): T5LayerNorm()\n",
       "            (dropout): Dropout(p=0.1, inplace=False)\n",
       "          )\n",
       "        )\n",
       "      )\n",
       "    )\n",
       "    (final_layer_norm): T5LayerNorm()\n",
       "    (dropout): Dropout(p=0.1, inplace=False)\n",
       "  )\n",
       "  (lm_head): Linear(in_features=768, out_features=32128, bias=False)\n",
       ")"
      ]
     },
     "execution_count": 146,
     "metadata": {},
     "output_type": "execute_result"
    }
   ],
   "source": [
    "flant5_model"
   ]
  },
  {
   "cell_type": "markdown",
   "id": "a0aef1da-a175-4093-bc2e-b1123f105782",
   "metadata": {},
   "source": [
    "\n",
    "\n",
    "\n",
    "Bring the tokenizer. \n",
    "This is to encode words into numbers. "
   ]
  },
  {
   "cell_type": "code",
   "execution_count": 19,
   "id": "e6377aae-6af4-4c5d-b8d3-005c68ce287e",
   "metadata": {},
   "outputs": [
    {
     "name": "stderr",
     "output_type": "stream",
     "text": [
      "Downloading (…)okenizer_config.json: 100%|██████████| 2.54k/2.54k [00:00<00:00, 7.44MB/s]\n",
      "Downloading spiece.model: 100%|██████████| 792k/792k [00:00<00:00, 19.4MB/s]\n",
      "Downloading (…)/main/tokenizer.json: 100%|██████████| 2.42M/2.42M [00:00<00:00, 15.7MB/s]\n",
      "Downloading (…)cial_tokens_map.json: 100%|██████████| 2.20k/2.20k [00:00<00:00, 6.16MB/s]\n"
     ]
    }
   ],
   "source": [
    "tokenizer = AutoTokenizer.from_pretrained(model_name)"
   ]
  },
  {
   "cell_type": "markdown",
   "id": "1fabd8ce-8649-40f8-a951-206b796932e5",
   "metadata": {},
   "source": [
    "\n",
    "\n",
    "\n",
    "\n",
    "To test how the tokenizer works,"
   ]
  },
  {
   "cell_type": "code",
   "execution_count": 21,
   "id": "0ce6187f-8f89-4c5d-be15-c6989a1b45bd",
   "metadata": {},
   "outputs": [
    {
     "data": {
      "text/plain": [
       "{'input_ids': tensor([[2018,  264,   32,    6,  149,   33,   25,   58,    6,  897,  248,  378,\n",
       "           56, 1837,   12,   25,    5,    1]]), 'attention_mask': tensor([[1, 1, 1, 1, 1, 1, 1, 1, 1, 1, 1, 1, 1, 1, 1, 1, 1, 1]])}"
      ]
     },
     "execution_count": 21,
     "metadata": {},
     "output_type": "execute_result"
    }
   ],
   "source": [
    "example = \"Hi Soo, how are you?, hope great things will happen to you.\"\n",
    "\n",
    "encoded = tokenizer(example, return_tensors='pt')\n",
    "encoded"
   ]
  },
  {
   "cell_type": "markdown",
   "id": "ada5e2a5-dcd5-41b5-b358-aa359f7d7728",
   "metadata": {},
   "source": [
    "\n",
    "\n",
    "\n",
    "\n",
    "The encoded token has input_id and attention_mask. "
   ]
  },
  {
   "cell_type": "code",
   "execution_count": 22,
   "id": "a31aa9ed-85cd-483f-8e48-40debecb38d8",
   "metadata": {},
   "outputs": [
    {
     "data": {
      "text/plain": [
       "tensor([[2018,  264,   32,    6,  149,   33,   25,   58,    6,  897,  248,  378,\n",
       "           56, 1837,   12,   25,    5,    1]])"
      ]
     },
     "execution_count": 22,
     "metadata": {},
     "output_type": "execute_result"
    }
   ],
   "source": [
    "encoded['input_ids']"
   ]
  },
  {
   "cell_type": "code",
   "execution_count": 23,
   "id": "d36312ff-6323-4ea2-9b29-c4024bf6e991",
   "metadata": {},
   "outputs": [
    {
     "data": {
      "text/plain": [
       "tensor([2018,  264,   32,    6,  149,   33,   25,   58,    6,  897,  248,  378,\n",
       "          56, 1837,   12,   25,    5,    1])"
      ]
     },
     "execution_count": 23,
     "metadata": {},
     "output_type": "execute_result"
    }
   ],
   "source": [
    "encoded['input_ids'][0]"
   ]
  },
  {
   "cell_type": "code",
   "execution_count": null,
   "id": "70db5fc3-50bb-4017-9b3b-4cb6917af005",
   "metadata": {},
   "outputs": [],
   "source": [
    "\n",
    "\n",
    "\n",
    "\n",
    "To get the encoded example back to the text example:"
   ]
  },
  {
   "cell_type": "code",
   "execution_count": 25,
   "id": "a4cccb87-dee5-4255-af10-e5f58da08994",
   "metadata": {},
   "outputs": [
    {
     "data": {
      "text/plain": [
       "'Hi Soo, how are you?, hope great things will happen to you.</s>'"
      ]
     },
     "execution_count": 25,
     "metadata": {},
     "output_type": "execute_result"
    }
   ],
   "source": [
    "decoded = tokenizer.decode(encoded['input_ids'][0])\n",
    "decoded"
   ]
  },
  {
   "cell_type": "code",
   "execution_count": null,
   "id": "5bac6c44-66c9-412c-843b-243d3d669b4d",
   "metadata": {},
   "outputs": [],
   "source": [
    "\n",
    "\n",
    "\n",
    "To remove the end of sentence token, "
   ]
  },
  {
   "cell_type": "code",
   "execution_count": 34,
   "id": "fcb7225e-a14b-4c2f-a15f-e5894e719546",
   "metadata": {},
   "outputs": [
    {
     "data": {
      "text/plain": [
       "'Hi Soo, how are you?, hope great things will happen to you.'"
      ]
     },
     "execution_count": 34,
     "metadata": {},
     "output_type": "execute_result"
    }
   ],
   "source": [
    "decoded = tokenizer.decode(encoded['input_ids'][0], skip_special_tokens = True)\n",
    "decoded"
   ]
  },
  {
   "cell_type": "markdown",
   "id": "7210e591-06ea-4627-9a4d-c4f0e83f185e",
   "metadata": {},
   "source": [
    "\n",
    "\n",
    "\n",
    "\n",
    "Now I will see how well the FLAN-T5 model is performing with the summarization. "
   ]
  },
  {
   "cell_type": "code",
   "execution_count": 42,
   "id": "2b6c2693-76f1-48d4-b071-a1adb25d1251",
   "metadata": {},
   "outputs": [
    {
     "data": {
      "text/plain": [
       "\"#Person1#: Happy Birthday, this is for you, Brian.\\n#Person2#: I'm so happy you remember, please come in and enjoy the party. Everyone's here, I'm sure you have a good time.\\n#Person1#: Brian, may I have a pleasure to have a dance with you?\\n#Person2#: Ok.\\n#Person1#: This is really wonderful party.\\n#Person2#: Yes, you are always popular with everyone. and you look very pretty today.\\n#Person1#: Thanks, that's very kind of you to say. I hope my necklace goes with my dress, and they both make me look good I feel.\\n#Person2#: You look great, you are absolutely glowing.\\n#Person1#: Thanks, this is a fine party. We should have a drink together to celebrate your birthday\""
      ]
     },
     "execution_count": 42,
     "metadata": {},
     "output_type": "execute_result"
    }
   ],
   "source": [
    "dialog = dataset['test'][10]['dialogue']\n",
    "dialog"
   ]
  },
  {
   "cell_type": "code",
   "execution_count": 43,
   "id": "cef0f683-9b5a-4bfc-b807-ec54ad47ab9b",
   "metadata": {},
   "outputs": [
    {
     "data": {
      "text/plain": [
       "\"#Person1# attends Brian's birthday party. Brian thinks #Person1# looks great and charming.\""
      ]
     },
     "execution_count": 43,
     "metadata": {},
     "output_type": "execute_result"
    }
   ],
   "source": [
    "human_summary = dataset['test'][10]['summary']\n",
    "human_summary"
   ]
  },
  {
   "cell_type": "markdown",
   "id": "0310af77-9326-4bab-a24b-459945763825",
   "metadata": {},
   "source": [
    "\n",
    "\n",
    "To see the model summary:\n",
    "Tokenize the dialog and feed it into the model"
   ]
  },
  {
   "cell_type": "code",
   "execution_count": 45,
   "id": "1baa79ae-78fa-46ec-b3b7-758dbd447e38",
   "metadata": {},
   "outputs": [
    {
     "data": {
      "text/plain": [
       "tensor([[ 1713,   345, 13515,   536,  4663,    10,  5574, 13753,     6,    48,\n",
       "            19,    21,    25,     6,  7798,     5,  1713,   345, 13515,   357,\n",
       "          4663,    10,    27,    31,    51,    78,  1095,    25,  1423,     6,\n",
       "           754,   369,    16,    11,   777,     8,  1088,     5,  6656,    31,\n",
       "             7,   270,     6,    27,    31,    51,   417,    25,    43,     3,\n",
       "             9,   207,    97,     5,  1713,   345, 13515,   536,  4663,    10,\n",
       "          7798,     6,   164,    27,    43,     3,     9,  5565,    12,    43,\n",
       "             3,     9,  2595,    28,    25,    58,  1713,   345, 13515,   357,\n",
       "          4663,    10,  8872,     5,  1713,   345, 13515,   536,  4663,    10,\n",
       "           100,    19,   310,  1627,  1088,     5,  1713,   345, 13515,   357,\n",
       "          4663,    10,  2163,     6,    25,    33,   373,  1012,    28,   921,\n",
       "             5,    11,    25,   320,   182,  1134,   469,     5,  1713,   345,\n",
       "         13515,   536,  4663,    10,  1333,     6,    24,    31,     7,   182,\n",
       "           773,    13,    25,    12,   497,     5,    27,   897,    82, 15709,\n",
       "          1550,    28,    82,  3270,     6,    11,    79,   321,   143,   140,\n",
       "           320,   207,    27,   473,     5,  1713,   345, 13515,   357,  4663,\n",
       "            10,   148,   320,   248,     6,    25,    33,  2997, 25738,     5,\n",
       "          1713,   345, 13515,   536,  4663,    10,  1333,     6,    48,    19,\n",
       "             3,     9,  1399,  1088,     5,   101,   225,    43,     3,     9,\n",
       "          3281,   544,    12,  4036,    39,  3591,     1]])"
      ]
     },
     "execution_count": 45,
     "metadata": {},
     "output_type": "execute_result"
    }
   ],
   "source": [
    "inputs = tokenizer(dialog, return_tensors='pt')\n",
    "inputs[\"input_ids\"]"
   ]
  },
  {
   "cell_type": "code",
   "execution_count": 49,
   "id": "138298ad-3b63-407b-8551-ed46c712565c",
   "metadata": {},
   "outputs": [
    {
     "data": {
      "text/plain": [
       "tensor([[   0, 7798,    6, 2763,   25,   21, 1107,   12,   69, 1088,    5,    1]])"
      ]
     },
     "execution_count": 49,
     "metadata": {},
     "output_type": "execute_result"
    }
   ],
   "source": [
    "output = flant5_model.generate(inputs[\"input_ids\"])\n",
    "output"
   ]
  },
  {
   "cell_type": "code",
   "execution_count": 53,
   "id": "60851ebe-b2cb-497e-8659-33ac41362a60",
   "metadata": {},
   "outputs": [
    {
     "data": {
      "text/plain": [
       "'Brian, thank you for coming to our party.'"
      ]
     },
     "execution_count": 53,
     "metadata": {},
     "output_type": "execute_result"
    }
   ],
   "source": [
    "decoded_output = tokenizer.decode(output[0], skip_special_tokens=True)\n",
    "decoded_output"
   ]
  },
  {
   "cell_type": "markdown",
   "id": "6878bb11-41d9-40c8-b702-d5056b58849e",
   "metadata": {},
   "source": [
    "\n",
    "\n",
    "So this is the model's summary of the input dialog. \n",
    "Which I think is a pretty good summary. \n",
    "Now I will test zero-shot inference. "
   ]
  },
  {
   "cell_type": "code",
   "execution_count": 64,
   "id": "7186f545-272a-4a34-a27f-d0518f97ac39",
   "metadata": {},
   "outputs": [],
   "source": [
    "def zero_shot(index):\n",
    "    '''\n",
    "    index is the index in the dataset, user can choose the index. \n",
    "    returns the dialog, human summary, and model summary\n",
    "    '''\n",
    "    \n",
    "    dialog = dataset['test'][index]['dialogue']\n",
    "    human_summary = dataset['test'][index]['summary']\n",
    "    \n",
    "    prompt = 'Summarize this converation: {}'.format(dialog)\n",
    "    \n",
    "    encoded_input = tokenizer(prompt, return_tensors='pt')\n",
    "    decoded_output = tokenizer.decode(\n",
    "                              flant5_model.generate(\n",
    "                              encoded_input['input_ids']\n",
    "                              )[0], \n",
    "                              skip_special_tokens=True\n",
    "        \n",
    "    )\n",
    "    \n",
    "    print('dialog:')\n",
    "    print(dialog)\n",
    "    print('human summary: {}'.format(human_summary))\n",
    "    print('model summary: {}'.format(decoded_output))"
   ]
  },
  {
   "cell_type": "code",
   "execution_count": 65,
   "id": "3d197a08-f97f-47be-8799-85a02f4ee8b7",
   "metadata": {},
   "outputs": [
    {
     "name": "stdout",
     "output_type": "stream",
     "text": [
      "dialog:\n",
      "#Person1#: Happy Birthday, this is for you, Brian.\n",
      "#Person2#: I'm so happy you remember, please come in and enjoy the party. Everyone's here, I'm sure you have a good time.\n",
      "#Person1#: Brian, may I have a pleasure to have a dance with you?\n",
      "#Person2#: Ok.\n",
      "#Person1#: This is really wonderful party.\n",
      "#Person2#: Yes, you are always popular with everyone. and you look very pretty today.\n",
      "#Person1#: Thanks, that's very kind of you to say. I hope my necklace goes with my dress, and they both make me look good I feel.\n",
      "#Person2#: You look great, you are absolutely glowing.\n",
      "#Person1#: Thanks, this is a fine party. We should have a drink together to celebrate your birthday\n",
      "human summary: #Person1# attends Brian's birthday party. Brian thinks #Person1# looks great and charming.\n",
      "model summary: Brian's birthday is today.\n"
     ]
    }
   ],
   "source": [
    "zero_shot(10)"
   ]
  },
  {
   "cell_type": "markdown",
   "id": "b0d5f7eb-4c11-400e-8b05-74e1160ca1f1",
   "metadata": {},
   "source": [
    "\n",
    "\n",
    "\n",
    "Comparing human summary with model summary. \n",
    "I personally like model summary better. \n",
    "Now I will see one-shot inference, and see how the summarization performance changes. "
   ]
  },
  {
   "cell_type": "code",
   "execution_count": 68,
   "id": "ebbb9700-0ed8-47c4-aede-ae8ee2f4bf2e",
   "metadata": {},
   "outputs": [],
   "source": [
    "def one_shot(index):\n",
    "    '''\n",
    "    index is the index in the dataset, user can choose the index. \n",
    "    returns the dialog, human summary and model summary for comparison\n",
    "    '''\n",
    "    \n",
    "    dialog = dataset['test'][index]['dialogue']\n",
    "    human_summary = dataset['test'][index]['summary']\n",
    "    \n",
    "    prompt = 'Summarize this converation: {}. Summary: {}'.format(dialog, human_summary)\n",
    "    \n",
    "    encoded_input = tokenizer(prompt, return_tensors='pt')\n",
    "    decoded_output = tokenizer.decode(\n",
    "                              flant5_model.generate(\n",
    "                              encoded_input['input_ids']\n",
    "                              )[0], \n",
    "                              skip_special_tokens=True\n",
    "        \n",
    "    )\n",
    "    \n",
    "    print('dialog:')\n",
    "    print(dialog)\n",
    "    print('human summary: {}'.format(human_summary))\n",
    "    print('model summary: {}'.format(decoded_output))"
   ]
  },
  {
   "cell_type": "code",
   "execution_count": 69,
   "id": "b7cce80b-c82a-4b8b-a0fc-4a13329c1bf1",
   "metadata": {},
   "outputs": [
    {
     "name": "stdout",
     "output_type": "stream",
     "text": [
      "dialog:\n",
      "#Person1#: Happy Birthday, this is for you, Brian.\n",
      "#Person2#: I'm so happy you remember, please come in and enjoy the party. Everyone's here, I'm sure you have a good time.\n",
      "#Person1#: Brian, may I have a pleasure to have a dance with you?\n",
      "#Person2#: Ok.\n",
      "#Person1#: This is really wonderful party.\n",
      "#Person2#: Yes, you are always popular with everyone. and you look very pretty today.\n",
      "#Person1#: Thanks, that's very kind of you to say. I hope my necklace goes with my dress, and they both make me look good I feel.\n",
      "#Person2#: You look great, you are absolutely glowing.\n",
      "#Person1#: Thanks, this is a fine party. We should have a drink together to celebrate your birthday\n",
      "human summary: #Person1# attends Brian's birthday party. Brian thinks #Person1# looks great and charming.\n",
      "model summary: Brian thinks #Person1# looks great and charming.\n"
     ]
    }
   ],
   "source": [
    "one_shot(10)"
   ]
  },
  {
   "cell_type": "markdown",
   "id": "5aed3b34-099e-4f07-a5a2-796d16f92df7",
   "metadata": {},
   "source": [
    "\n",
    "\n",
    "\n",
    "So in the one_shot function, the prompt has changed to include one human example, hence one-shot inference. \n",
    "With the one-shot inference, the model summary is taking the human style, like in #Person1#. "
   ]
  },
  {
   "cell_type": "markdown",
   "id": "27ad1788-1720-4b0d-ac28-92ee220f5d4c",
   "metadata": {},
   "source": [
    "\n",
    "\n",
    "\n",
    "Create a prompt that includes one or a few human examples. "
   ]
  },
  {
   "cell_type": "code",
   "execution_count": 209,
   "id": "1376edd8-004f-4b39-882d-8ce5724595a7",
   "metadata": {},
   "outputs": [],
   "source": [
    "def prompt_generator(indices, to_summarize):\n",
    "    '''\n",
    "    indices is a list with one or more indices in the dataset. the indices' dialog and human summary will be given as example in the prompt. \n",
    "    to_summarize is the index of the dialog (from the dataset) to summarize.\n",
    "    returns the prompt with the example based on the example(s) in the prompt. \n",
    "    '''\n",
    "    \n",
    "    #start with an empty prompt\n",
    "    prompt = ''\n",
    "    \n",
    "    for i in indices: \n",
    "        dialog = dataset['test'][i]['dialogue']\n",
    "        human_summary = dataset['test'][i]['summary']\n",
    "    \n",
    "        prompt += 'Conversation: {} Summarize: {}'.format(dialog, human_summary)\n",
    "    \n",
    "    \n",
    "    dialog_to_sum = dataset['test'][to_summarize]['dialogue']\n",
    "    \n",
    "    prompt += 'Conversation: {} Summarize: '.format(dialog_to_sum)\n",
    "    \n",
    "    return prompt "
   ]
  },
  {
   "cell_type": "markdown",
   "id": "0ce378ea-9b3d-4235-834c-8de2d09412e2",
   "metadata": {},
   "source": [
    "\n",
    "\n",
    "\n",
    "To create a one-shot inference prompt: "
   ]
  },
  {
   "cell_type": "code",
   "execution_count": 210,
   "id": "95b74c4b-5d16-40cf-8aea-008284e37ad4",
   "metadata": {},
   "outputs": [
    {
     "data": {
      "text/plain": [
       "\"Conversation: #Person1#: You're finally here! What took so long?\\n#Person2#: I got stuck in traffic again. There was a terrible traffic jam near the Carrefour intersection.\\n#Person1#: It's always rather congested down there during rush hour. Maybe you should try to find a different route to get home.\\n#Person2#: I don't think it can be avoided, to be honest.\\n#Person1#: perhaps it would be better if you started taking public transport system to work.\\n#Person2#: I think it's something that I'll have to consider. The public transport system is pretty good.\\n#Person1#: It would be better for the environment, too.\\n#Person2#: I know. I feel bad about how much my car is adding to the pollution problem in this city.\\n#Person1#: Taking the subway would be a lot less stressful than driving as well.\\n#Person2#: The only problem is that I'm going to really miss having the freedom that you have with a car.\\n#Person1#: Well, when it's nicer outside, you can start biking to work. That will give you just as much freedom as your car usually provides.\\n#Person2#: That's true. I could certainly use the exercise!\\n#Person1#: So, are you going to quit driving to work then?\\n#Person2#: Yes, it's not good for me or for the environment. Summarize: #Person2# complains to #Person1# about the traffic jam, #Person1# suggests quitting driving and taking public transportation instead.Conversation: #Person1#: Happy Birthday, this is for you, Brian.\\n#Person2#: I'm so happy you remember, please come in and enjoy the party. Everyone's here, I'm sure you have a good time.\\n#Person1#: Brian, may I have a pleasure to have a dance with you?\\n#Person2#: Ok.\\n#Person1#: This is really wonderful party.\\n#Person2#: Yes, you are always popular with everyone. and you look very pretty today.\\n#Person1#: Thanks, that's very kind of you to say. I hope my necklace goes with my dress, and they both make me look good I feel.\\n#Person2#: You look great, you are absolutely glowing.\\n#Person1#: Thanks, this is a fine party. We should have a drink together to celebrate your birthday Summarize: \""
      ]
     },
     "execution_count": 210,
     "metadata": {},
     "output_type": "execute_result"
    }
   ],
   "source": [
    "prompt_generator([5], 10)"
   ]
  },
  {
   "cell_type": "code",
   "execution_count": null,
   "id": "eb3a9bc5-3dd9-4ded-b164-857c7517ca50",
   "metadata": {},
   "outputs": [],
   "source": [
    "\n",
    "\n",
    "\n",
    "\n",
    "To create a few-shot inference prompt:"
   ]
  },
  {
   "cell_type": "code",
   "execution_count": 132,
   "id": "74cf1869-bbaa-4f94-87fd-aae167161ec7",
   "metadata": {},
   "outputs": [
    {
     "data": {
      "text/plain": [
       "\"Conversation: #Person1#: You're finally here! What took so long?\\n#Person2#: I got stuck in traffic again. There was a terrible traffic jam near the Carrefour intersection.\\n#Person1#: It's always rather congested down there during rush hour. Maybe you should try to find a different route to get home.\\n#Person2#: I don't think it can be avoided, to be honest.\\n#Person1#: perhaps it would be better if you started taking public transport system to work.\\n#Person2#: I think it's something that I'll have to consider. The public transport system is pretty good.\\n#Person1#: It would be better for the environment, too.\\n#Person2#: I know. I feel bad about how much my car is adding to the pollution problem in this city.\\n#Person1#: Taking the subway would be a lot less stressful than driving as well.\\n#Person2#: The only problem is that I'm going to really miss having the freedom that you have with a car.\\n#Person1#: Well, when it's nicer outside, you can start biking to work. That will give you just as much freedom as your car usually provides.\\n#Person2#: That's true. I could certainly use the exercise!\\n#Person1#: So, are you going to quit driving to work then?\\n#Person2#: Yes, it's not good for me or for the environment. Summarize: #Person2# complains to #Person1# about the traffic jam, #Person1# suggests quitting driving and taking public transportation instead.Conversation: #Person1#: What's wrong with you? Why are you scratching so much?\\n#Person2#: I feel itchy! I can't stand it anymore! I think I may be coming down with something. I feel lightheaded and weak.\\n#Person1#: Let me have a look. Whoa! Get away from me!\\n#Person2#: What's wrong?\\n#Person1#: I think you have chicken pox! You are contagious! Get away! Don't breathe on me!\\n#Person2#: Maybe it's just a rash or an allergy! We can't be sure until I see a doctor.\\n#Person1#: Well in the meantime you are a biohazard! I didn't get it when I was a kid and I've heard that you can even die if you get it as an adult!\\n#Person2#: Are you serious? You always blow things out of proportion. In any case, I think I'll go take an oatmeal bath. Summarize: #Person1# thinks #Person2# has chicken pox and warns #Person2# about the possible hazards but #Person2# thinks it will be fine.Conversation: #Person1#: Where are you going for your trip?\\n#Person2#: I think Hebei is a good place.\\n#Person1#: But I heard the north of China are experiencing severe sandstorms!\\n#Person2#: Really?\\n#Person1#: Yes, it's said that Hebes was experiencing six degree strong winds.\\n#Person2#: How do these storms affect the people who live in these areas?\\n#Person1#: The report said the number of people with respiratory tract infections tended to rise after sandstorms. The sand gets into people's noses and throats and creates irritation.\\n#Person2#: It sounds that sandstorms are trouble for everybody!\\n#Person1#: You are quite right. Summarize: #Person2# plans to have a trip in Hebei but #Person1# says there are sandstorms in there.Conversation: #Person1#: Happy Birthday, this is for you, Brian.\\n#Person2#: I'm so happy you remember, please come in and enjoy the party. Everyone's here, I'm sure you have a good time.\\n#Person1#: Brian, may I have a pleasure to have a dance with you?\\n#Person2#: Ok.\\n#Person1#: This is really wonderful party.\\n#Person2#: Yes, you are always popular with everyone. and you look very pretty today.\\n#Person1#: Thanks, that's very kind of you to say. I hope my necklace goes with my dress, and they both make me look good I feel.\\n#Person2#: You look great, you are absolutely glowing.\\n#Person1#: Thanks, this is a fine party. We should have a drink together to celebrate your birthday Summarize: \""
      ]
     },
     "execution_count": 132,
     "metadata": {},
     "output_type": "execute_result"
    }
   ],
   "source": [
    "prompt_generator([5, 20, 30], 10)"
   ]
  },
  {
   "cell_type": "markdown",
   "id": "efdb41b8-62a4-4437-98ad-3fca20266714",
   "metadata": {},
   "source": [
    "\n",
    "\n",
    "\n",
    "Use a few-shot prompt and generate the model summary. "
   ]
  },
  {
   "cell_type": "code",
   "execution_count": 133,
   "id": "7310966c-2633-4b11-b92a-0bb3c0d10693",
   "metadata": {},
   "outputs": [
    {
     "data": {
      "text/plain": [
       "\"Conversation: #Person1#: You're finally here! What took so long?\\n#Person2#: I got stuck in traffic again. There was a terrible traffic jam near the Carrefour intersection.\\n#Person1#: It's always rather congested down there during rush hour. Maybe you should try to find a different route to get home.\\n#Person2#: I don't think it can be avoided, to be honest.\\n#Person1#: perhaps it would be better if you started taking public transport system to work.\\n#Person2#: I think it's something that I'll have to consider. The public transport system is pretty good.\\n#Person1#: It would be better for the environment, too.\\n#Person2#: I know. I feel bad about how much my car is adding to the pollution problem in this city.\\n#Person1#: Taking the subway would be a lot less stressful than driving as well.\\n#Person2#: The only problem is that I'm going to really miss having the freedom that you have with a car.\\n#Person1#: Well, when it's nicer outside, you can start biking to work. That will give you just as much freedom as your car usually provides.\\n#Person2#: That's true. I could certainly use the exercise!\\n#Person1#: So, are you going to quit driving to work then?\\n#Person2#: Yes, it's not good for me or for the environment. Summarize: #Person2# complains to #Person1# about the traffic jam, #Person1# suggests quitting driving and taking public transportation instead.Conversation: #Person1#: What's wrong with you? Why are you scratching so much?\\n#Person2#: I feel itchy! I can't stand it anymore! I think I may be coming down with something. I feel lightheaded and weak.\\n#Person1#: Let me have a look. Whoa! Get away from me!\\n#Person2#: What's wrong?\\n#Person1#: I think you have chicken pox! You are contagious! Get away! Don't breathe on me!\\n#Person2#: Maybe it's just a rash or an allergy! We can't be sure until I see a doctor.\\n#Person1#: Well in the meantime you are a biohazard! I didn't get it when I was a kid and I've heard that you can even die if you get it as an adult!\\n#Person2#: Are you serious? You always blow things out of proportion. In any case, I think I'll go take an oatmeal bath. Summarize: #Person1# thinks #Person2# has chicken pox and warns #Person2# about the possible hazards but #Person2# thinks it will be fine.Conversation: #Person1#: Happy Birthday, this is for you, Brian.\\n#Person2#: I'm so happy you remember, please come in and enjoy the party. Everyone's here, I'm sure you have a good time.\\n#Person1#: Brian, may I have a pleasure to have a dance with you?\\n#Person2#: Ok.\\n#Person1#: This is really wonderful party.\\n#Person2#: Yes, you are always popular with everyone. and you look very pretty today.\\n#Person1#: Thanks, that's very kind of you to say. I hope my necklace goes with my dress, and they both make me look good I feel.\\n#Person2#: You look great, you are absolutely glowing.\\n#Person1#: Thanks, this is a fine party. We should have a drink together to celebrate your birthday Summarize: \""
      ]
     },
     "execution_count": 133,
     "metadata": {},
     "output_type": "execute_result"
    }
   ],
   "source": [
    "prompt = prompt_generator([5, 20], 10)\n",
    "prompt"
   ]
  },
  {
   "cell_type": "code",
   "execution_count": 134,
   "id": "8199e1fe-37ec-48bf-98c9-8c6971316006",
   "metadata": {},
   "outputs": [
    {
     "data": {
      "text/plain": [
       "tensor([28941,    10,  1713,   345, 13515,   536,  4663,    10,   148,    31])"
      ]
     },
     "execution_count": 134,
     "metadata": {},
     "output_type": "execute_result"
    }
   ],
   "source": [
    "inputs = tokenizer(prompt, return_tensors='pt')\n",
    "inputs['input_ids'][0][0:10]"
   ]
  },
  {
   "cell_type": "code",
   "execution_count": 135,
   "id": "cfd4d803-6d94-4660-885d-e9d9d3cf3ac7",
   "metadata": {},
   "outputs": [
    {
     "data": {
      "text/plain": [
       "\"#Person1#: Happy birthday, Brian. #Person2#: I'\""
      ]
     },
     "execution_count": 135,
     "metadata": {},
     "output_type": "execute_result"
    }
   ],
   "source": [
    "decoded_outputs = tokenizer.decode(\n",
    "                  flant5_model.generate(\n",
    "                        inputs['input_ids']\n",
    "                  )[0], \n",
    "                  skip_special_tokens=True\n",
    ")\n",
    "\n",
    "\n",
    "decoded_outputs"
   ]
  },
  {
   "cell_type": "code",
   "execution_count": 136,
   "id": "15ac0289-fdd9-4cef-adec-b84c03a6a8d5",
   "metadata": {},
   "outputs": [
    {
     "data": {
      "text/plain": [
       "\"#Person1# attends Brian's birthday party. Brian thinks #Person1# looks great and charming.\""
      ]
     },
     "execution_count": 136,
     "metadata": {},
     "output_type": "execute_result"
    }
   ],
   "source": [
    "dataset['test'][10]['summary']"
   ]
  },
  {
   "cell_type": "markdown",
   "id": "c64b165f-8f16-42bb-9235-0e4aa4bb0ec1",
   "metadata": {},
   "source": [
    "\n",
    "\n",
    "Interestingly, a few shot inference was not performing well compared to the zero shot or one shot inference. "
   ]
  },
  {
   "cell_type": "code",
   "execution_count": 150,
   "id": "9a78b16e-be21-46c1-9419-259041ffb7c8",
   "metadata": {},
   "outputs": [
    {
     "data": {
      "text/plain": [
       "<generator object Module.named_parameters at 0x2abd74d60>"
      ]
     },
     "execution_count": 150,
     "metadata": {},
     "output_type": "execute_result"
    }
   ],
   "source": [
    "flant5_model.named_parameters()"
   ]
  },
  {
   "cell_type": "code",
   "execution_count": 182,
   "id": "f231933f-5080-448a-a8f8-893c2119c1eb",
   "metadata": {},
   "outputs": [],
   "source": [
    "def find_trainable_param(model):\n",
    "    trainable_param = 0\n",
    "    total_param = 0\n",
    "    for _, param in flant5_model.named_parameters():\n",
    "        total_param += param.numel()\n",
    "        if param.requires_grad:\n",
    "            trainable_param += param.numel()\n",
    "    return \"trainable model parameter: {} total model param: {}\".format(trainable_param, total_param)"
   ]
  },
  {
   "cell_type": "code",
   "execution_count": 180,
   "id": "c4697991-beb2-48cd-b965-e0be5e7436cb",
   "metadata": {},
   "outputs": [
    {
     "data": {
      "text/plain": [
       "'trainable model parameter: 247577856\\ntotal model param: 247577856'"
      ]
     },
     "execution_count": 180,
     "metadata": {},
     "output_type": "execute_result"
    }
   ],
   "source": [
    "find_trainable_param(flant5_model)"
   ]
  },
  {
   "cell_type": "code",
   "execution_count": 213,
   "id": "e9d6d587-0ad5-4e5d-a6e9-24cfb0d52beb",
   "metadata": {},
   "outputs": [],
   "source": [
    "index = 100\n",
    "\n",
    "dialog = dataset['test'][index]['dialogue']\n",
    "human_summary = dataset['test'][index]['summary']"
   ]
  },
  {
   "cell_type": "code",
   "execution_count": 214,
   "id": "4ed2fced-2ea8-4049-9d16-1eb240a2a84e",
   "metadata": {},
   "outputs": [],
   "source": [
    "prompt = f'''\n",
    "Summarize the conversation:\n",
    "{dialog}\n",
    "\n",
    "Summary:\n",
    "'''"
   ]
  },
  {
   "cell_type": "code",
   "execution_count": 215,
   "id": "a43bf3e7-99d2-4940-b8a8-eb048365a252",
   "metadata": {},
   "outputs": [],
   "source": [
    "inputs = tokenizer(prompt, return_tensors='pt')\n",
    "outputs = tokenizer.decode(\n",
    "            flant5_model.generate(\n",
    "            inputs[\"input_ids\"]\n",
    "            )[0], \n",
    "            skip_special_tokens=True\n",
    ")"
   ]
  },
  {
   "cell_type": "code",
   "execution_count": 216,
   "id": "0ceb52c4-8206-4033-9fc0-becc6203aad3",
   "metadata": {},
   "outputs": [
    {
     "name": "stdout",
     "output_type": "stream",
     "text": [
      "\n",
      "Summarize the conversation:\n",
      "#Person1#: OK, that's a cut! Let's start from the beginning, everyone.\n",
      "#Person2#: What was the problem that time?\n",
      "#Person1#: The feeling was all wrong, Mike. She is telling you that she doesn't want to see you any more, but I want to get more anger from you. You're acting hurt and sad, but that's not how your character would act in this situation.\n",
      "#Person2#: But Jason and Laura have been together for three years. Don't you think his reaction would be one of both anger and sadness?\n",
      "#Person1#: At this point, no. I think he would react the way most guys would, and then later on, we would see his real feelings.\n",
      "#Person2#: I'm not so sure about that.\n",
      "#Person1#: Let's try it my way, and you can see how you feel when you're saying your lines. After that, if it still doesn't feel right, we can try something else.\n",
      "\n",
      "Summary:\n",
      "\n"
     ]
    }
   ],
   "source": [
    "print(prompt)"
   ]
  },
  {
   "cell_type": "code",
   "execution_count": 217,
   "id": "df875554-9593-4dbe-8639-db5084441e73",
   "metadata": {},
   "outputs": [
    {
     "data": {
      "text/plain": [
       "\"#Person1# and Mike have a disagreement on how to act out a scene. #Person1# proposes that Mike can try to act in #Person1#'s way.\""
      ]
     },
     "execution_count": 217,
     "metadata": {},
     "output_type": "execute_result"
    }
   ],
   "source": [
    "human_summary"
   ]
  },
  {
   "cell_type": "code",
   "execution_count": 218,
   "id": "1d3bd8cd-e462-482e-b387-42256eebca0a",
   "metadata": {},
   "outputs": [
    {
     "data": {
      "text/plain": [
       "'The two of them are trying to figure out how to express their feelings.'"
      ]
     },
     "execution_count": 218,
     "metadata": {},
     "output_type": "execute_result"
    }
   ],
   "source": [
    "outputs"
   ]
  },
  {
   "cell_type": "markdown",
   "id": "217f5bd0-e30e-4c1c-975f-3216a42555b9",
   "metadata": {},
   "source": [
    "\n",
    "\n",
    "\n",
    "Prep for fine tuning "
   ]
  },
  {
   "cell_type": "code",
   "execution_count": 225,
   "id": "02cda3b5-e1b8-480d-9e2d-0cedb712ea37",
   "metadata": {},
   "outputs": [],
   "source": [
    "def tokenize_function(example):\n",
    "    start_prompt = 'Summarize this conversation:'\n",
    "    end_prompt = 'Summary:'\n",
    "    prompt = [start_prompt + dialog + end_prompt for dialog in example[\"dialogue\"]]\n",
    "    example[\"input_ids\"] = tokenizer(prompt, padding=\"max_length\", truncation=True, return_tensors='pt').input_ids\n",
    "    example[\"labels\"] = tokenizer(example[\"summary\"], padding=\"max_length\", truncation=True, return_tensors='pt').input_ids\n",
    "    \n",
    "    return example"
   ]
  },
  {
   "cell_type": "code",
   "execution_count": 226,
   "id": "ef6d2ffd-fbb2-4e82-ab46-613e8ec08302",
   "metadata": {},
   "outputs": [
    {
     "name": "stderr",
     "output_type": "stream",
     "text": [
      "                                                                  \r"
     ]
    }
   ],
   "source": [
    "tokenized_datasets = dataset.map(tokenize_function)"
   ]
  },
  {
   "cell_type": "code",
   "execution_count": 227,
   "id": "ae34bddb-d393-4c37-a834-ec0b2f509894",
   "metadata": {},
   "outputs": [
    {
     "data": {
      "text/plain": [
       "DatasetDict({\n",
       "    train: Dataset({\n",
       "        features: ['id', 'dialogue', 'summary', 'topic', 'input_ids', 'labels'],\n",
       "        num_rows: 12460\n",
       "    })\n",
       "    test: Dataset({\n",
       "        features: ['id', 'dialogue', 'summary', 'topic', 'input_ids', 'labels'],\n",
       "        num_rows: 1500\n",
       "    })\n",
       "    validation: Dataset({\n",
       "        features: ['id', 'dialogue', 'summary', 'topic', 'input_ids', 'labels'],\n",
       "        num_rows: 500\n",
       "    })\n",
       "})"
      ]
     },
     "execution_count": 227,
     "metadata": {},
     "output_type": "execute_result"
    }
   ],
   "source": [
    "tokenized_datasets"
   ]
  },
  {
   "cell_type": "code",
   "execution_count": 228,
   "id": "078bc59a-6ea2-4987-9bfd-71b18758da98",
   "metadata": {},
   "outputs": [
    {
     "data": {
      "text/plain": [
       "DatasetDict({\n",
       "    train: Dataset({\n",
       "        features: ['input_ids', 'labels'],\n",
       "        num_rows: 12460\n",
       "    })\n",
       "    test: Dataset({\n",
       "        features: ['input_ids', 'labels'],\n",
       "        num_rows: 1500\n",
       "    })\n",
       "    validation: Dataset({\n",
       "        features: ['input_ids', 'labels'],\n",
       "        num_rows: 500\n",
       "    })\n",
       "})"
      ]
     },
     "execution_count": 228,
     "metadata": {},
     "output_type": "execute_result"
    }
   ],
   "source": [
    "tokenized_datasets = tokenized_datasets.remove_columns(['id', 'topic', 'dialogue', 'summary',])\n",
    "tokenized_datasets"
   ]
  },
  {
   "cell_type": "code",
   "execution_count": 229,
   "id": "48846e8d-8e40-4f2a-bb67-b7b0c6db247f",
   "metadata": {},
   "outputs": [
    {
     "name": "stderr",
     "output_type": "stream",
     "text": [
      "                                                                    \r"
     ]
    },
    {
     "data": {
      "text/plain": [
       "DatasetDict({\n",
       "    train: Dataset({\n",
       "        features: ['input_ids', 'labels'],\n",
       "        num_rows: 125\n",
       "    })\n",
       "    test: Dataset({\n",
       "        features: ['input_ids', 'labels'],\n",
       "        num_rows: 15\n",
       "    })\n",
       "    validation: Dataset({\n",
       "        features: ['input_ids', 'labels'],\n",
       "        num_rows: 5\n",
       "    })\n",
       "})"
      ]
     },
     "execution_count": 229,
     "metadata": {},
     "output_type": "execute_result"
    }
   ],
   "source": [
    "tokenized_datasets = tokenized_datasets.filter(lambda example, index : index % 100 == 0, with_indices=True)\n",
    "tokenized_datasets"
   ]
  },
  {
   "cell_type": "code",
   "execution_count": 237,
   "id": "91355205-35ea-4c06-8f3a-0edfbe14817e",
   "metadata": {},
   "outputs": [
    {
     "data": {
      "text/plain": [
       "DatasetDict({\n",
       "    train: Dataset({\n",
       "        features: ['input_ids', 'labels'],\n",
       "        num_rows: 125\n",
       "    })\n",
       "    test: Dataset({\n",
       "        features: ['input_ids', 'labels'],\n",
       "        num_rows: 15\n",
       "    })\n",
       "    validation: Dataset({\n",
       "        features: ['input_ids', 'labels'],\n",
       "        num_rows: 5\n",
       "    })\n",
       "})"
      ]
     },
     "execution_count": 237,
     "metadata": {},
     "output_type": "execute_result"
    }
   ],
   "source": [
    "tokenized_datasets"
   ]
  },
  {
   "cell_type": "code",
   "execution_count": 230,
   "id": "c5332d3b-bd7a-4b20-b5ff-706ce094e2d3",
   "metadata": {},
   "outputs": [
    {
     "data": {
      "text/plain": [
       "(125, 2)"
      ]
     },
     "execution_count": 230,
     "metadata": {},
     "output_type": "execute_result"
    }
   ],
   "source": [
    "tokenized_datasets['train'].shape"
   ]
  },
  {
   "cell_type": "code",
   "execution_count": 231,
   "id": "aae65f04-4cb2-4c0e-91a8-797c7327db34",
   "metadata": {},
   "outputs": [
    {
     "data": {
      "text/plain": [
       "(5, 2)"
      ]
     },
     "execution_count": 231,
     "metadata": {},
     "output_type": "execute_result"
    }
   ],
   "source": [
    "tokenized_datasets['validation'].shape"
   ]
  },
  {
   "cell_type": "code",
   "execution_count": 235,
   "id": "5e346cdc-164a-4eb3-a062-bdda8c41ff26",
   "metadata": {},
   "outputs": [
    {
     "data": {
      "text/plain": [
       "(15, 2)"
      ]
     },
     "execution_count": 235,
     "metadata": {},
     "output_type": "execute_result"
    }
   ],
   "source": [
    "tokenized_datasets['test'].shape"
   ]
  },
  {
   "cell_type": "code",
   "execution_count": 239,
   "id": "e8f1e756-07dd-4c6c-a824-33fdf42a623a",
   "metadata": {},
   "outputs": [],
   "source": [
    "output_dir = f'./dialogue-summary-training-{str(int(time.time()))}'\n",
    "\n",
    "training_args = TrainingArguments(\n",
    "    output_dir=output_dir,\n",
    "    learning_rate=1e-5,\n",
    "    num_train_epochs=1,\n",
    "    weight_decay=0.01,\n",
    "    logging_steps=1,\n",
    "    max_steps=1\n",
    ")\n",
    "\n",
    "trainer = Trainer(\n",
    "    model=flant5_model,\n",
    "    args=training_args,\n",
    "    train_dataset=tokenized_datasets['train'],\n",
    "    eval_dataset=tokenized_datasets['validation']\n",
    ")"
   ]
  },
  {
   "cell_type": "code",
   "execution_count": null,
   "id": "82a8cde5-d492-4b47-baac-afb14839505d",
   "metadata": {},
   "outputs": [],
   "source": []
  },
  {
   "cell_type": "code",
   "execution_count": null,
   "id": "f27804a7-b257-4ca0-a2e8-3b8505458322",
   "metadata": {},
   "outputs": [],
   "source": []
  },
  {
   "cell_type": "code",
   "execution_count": null,
   "id": "fab6e3e2-9237-4f26-982f-148d254388be",
   "metadata": {},
   "outputs": [],
   "source": []
  }
 ],
 "metadata": {
  "kernelspec": {
   "display_name": "Python 3 (ipykernel)",
   "language": "python",
   "name": "python3"
  },
  "language_info": {
   "codemirror_mode": {
    "name": "ipython",
    "version": 3
   },
   "file_extension": ".py",
   "mimetype": "text/x-python",
   "name": "python",
   "nbconvert_exporter": "python",
   "pygments_lexer": "ipython3",
   "version": "3.10.9"
  }
 },
 "nbformat": 4,
 "nbformat_minor": 5
}
